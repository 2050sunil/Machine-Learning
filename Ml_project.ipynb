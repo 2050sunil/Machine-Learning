{
  "nbformat": 4,
  "nbformat_minor": 0,
  "metadata": {
    "colab": {
      "name": "Ml_project.ipynb",
      "provenance": []
    },
    "kernelspec": {
      "name": "python3",
      "display_name": "Python 3"
    }
  },
  "cells": [
    {
      "cell_type": "code",
      "metadata": {
        "colab": {
          "resources": {
            "http://localhost:8080/nbextensions/google.colab/files.js": {
              "data": "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",
              "ok": true,
              "headers": [
                [
                  "content-type",
                  "application/javascript"
                ]
              ],
              "status": 200,
              "status_text": ""
            }
          },
          "base_uri": "https://localhost:8080/",
          "height": 492
        },
        "id": "Qk6pxX9qDdbK",
        "outputId": "85425147-74c7-4c5f-958d-ac57b1148d40"
      },
      "source": [
        "# Read in and clean data\n",
        "\n",
        "import io\n",
        "from google.colab import files\n",
        "uploaded = files.upload()\n",
        "\n",
        "import nltk\n",
        "import numpy as np\n",
        "import pandas as pd\n",
        "import re\n",
        "from sklearn.model_selection import train_test_split\n",
        "import string\n",
        "\n",
        "nltk.download('stopwords')\n",
        "stopwords = nltk.corpus.stopwords.words('english')\n",
        "\n",
        "messages = pd.read_csv('spam.csv', encoding='latin-1')\n",
        "messages = messages.drop(labels = [\"Unnamed: 2\", \"Unnamed: 3\", \"Unnamed: 4\"], axis = 1)\n",
        "messages.columns = [\"label\", \"text\"]\n",
        "messages['label'] = np.where(messages['label']=='spam', 1, 0)\n",
        "\n",
        "def clean_text(text):\n",
        "    text = \"\".join([word.lower() for word in text if word not in string.punctuation])\n",
        "    tokens = re.split('\\W+', text)\n",
        "    text = [word for word in tokens if word not in stopwords]\n",
        "    return text\n",
        "\n",
        "messages['clean_text'] = messages['text'].apply(lambda x: clean_text(x))\n",
        "messages.head()"
      ],
      "execution_count": null,
      "outputs": [
        {
          "output_type": "display_data",
          "data": {
            "text/html": [
              "\n",
              "     <input type=\"file\" id=\"files-42fad3da-8ed2-469e-a1a6-11184c58e406\" name=\"files[]\" multiple disabled\n",
              "        style=\"border:none\" />\n",
              "     <output id=\"result-42fad3da-8ed2-469e-a1a6-11184c58e406\">\n",
              "      Upload widget is only available when the cell has been executed in the\n",
              "      current browser session. Please rerun this cell to enable.\n",
              "      </output>\n",
              "      <script src=\"/nbextensions/google.colab/files.js\"></script> "
            ],
            "text/plain": [
              "<IPython.core.display.HTML object>"
            ]
          },
          "metadata": {
            "tags": []
          }
        },
        {
          "output_type": "stream",
          "text": [
            "Saving spam.csv to spam.csv\n",
            "Saving X_test.csv to X_test.csv\n",
            "Saving X_train.csv to X_train.csv\n",
            "Saving y_test.csv to y_test.csv\n",
            "Saving y_train.csv to y_train.csv\n",
            "[nltk_data] Downloading package stopwords to /root/nltk_data...\n",
            "[nltk_data]   Unzipping corpora/stopwords.zip.\n"
          ],
          "name": "stdout"
        },
        {
          "output_type": "execute_result",
          "data": {
            "text/html": [
              "<div>\n",
              "<style scoped>\n",
              "    .dataframe tbody tr th:only-of-type {\n",
              "        vertical-align: middle;\n",
              "    }\n",
              "\n",
              "    .dataframe tbody tr th {\n",
              "        vertical-align: top;\n",
              "    }\n",
              "\n",
              "    .dataframe thead th {\n",
              "        text-align: right;\n",
              "    }\n",
              "</style>\n",
              "<table border=\"1\" class=\"dataframe\">\n",
              "  <thead>\n",
              "    <tr style=\"text-align: right;\">\n",
              "      <th></th>\n",
              "      <th>label</th>\n",
              "      <th>text</th>\n",
              "      <th>clean_text</th>\n",
              "    </tr>\n",
              "  </thead>\n",
              "  <tbody>\n",
              "    <tr>\n",
              "      <th>0</th>\n",
              "      <td>0</td>\n",
              "      <td>Go until jurong point, crazy.. Available only ...</td>\n",
              "      <td>[go, jurong, point, crazy, available, bugis, n...</td>\n",
              "    </tr>\n",
              "    <tr>\n",
              "      <th>1</th>\n",
              "      <td>0</td>\n",
              "      <td>Ok lar... Joking wif u oni...</td>\n",
              "      <td>[ok, lar, joking, wif, u, oni]</td>\n",
              "    </tr>\n",
              "    <tr>\n",
              "      <th>2</th>\n",
              "      <td>1</td>\n",
              "      <td>Free entry in 2 a wkly comp to win FA Cup fina...</td>\n",
              "      <td>[free, entry, 2, wkly, comp, win, fa, cup, fin...</td>\n",
              "    </tr>\n",
              "    <tr>\n",
              "      <th>3</th>\n",
              "      <td>0</td>\n",
              "      <td>U dun say so early hor... U c already then say...</td>\n",
              "      <td>[u, dun, say, early, hor, u, c, already, say]</td>\n",
              "    </tr>\n",
              "    <tr>\n",
              "      <th>4</th>\n",
              "      <td>0</td>\n",
              "      <td>Nah I don't think he goes to usf, he lives aro...</td>\n",
              "      <td>[nah, dont, think, goes, usf, lives, around, t...</td>\n",
              "    </tr>\n",
              "  </tbody>\n",
              "</table>\n",
              "</div>"
            ],
            "text/plain": [
              "   label  ...                                         clean_text\n",
              "0      0  ...  [go, jurong, point, crazy, available, bugis, n...\n",
              "1      0  ...                     [ok, lar, joking, wif, u, oni]\n",
              "2      1  ...  [free, entry, 2, wkly, comp, win, fa, cup, fin...\n",
              "3      0  ...      [u, dun, say, early, hor, u, c, already, say]\n",
              "4      0  ...  [nah, dont, think, goes, usf, lives, around, t...\n",
              "\n",
              "[5 rows x 3 columns]"
            ]
          },
          "metadata": {
            "tags": []
          },
          "execution_count": 3
        }
      ]
    },
    {
      "cell_type": "code",
      "metadata": {
        "colab": {
          "base_uri": "https://localhost:8080/"
        },
        "id": "hhDfBRcYDr1J",
        "outputId": "9a971f39-3269-48f0-8a25-916740881aca"
      },
      "source": [
        "# Split data into train and test set\n",
        "X_train, X_test, y_train, y_test = train_test_split(messages['clean_text'],\n",
        "                                                    messages['label'], test_size=0.2)\n",
        "\n",
        "X_train[:]\n",
        "y_train[:10]"
      ],
      "execution_count": null,
      "outputs": [
        {
          "output_type": "execute_result",
          "data": {
            "text/plain": [
              "3242    0\n",
              "4613    0\n",
              "200     0\n",
              "1846    0\n",
              "217     0\n",
              "5204    0\n",
              "4383    0\n",
              "682     0\n",
              "2415    0\n",
              "4920    0\n",
              "Name: label, dtype: int64"
            ]
          },
          "metadata": {
            "tags": []
          },
          "execution_count": 4
        }
      ]
    },
    {
      "cell_type": "code",
      "metadata": {
        "id": "EmmsqUrRFRf-"
      },
      "source": [
        "X_train.to_csv('X_train.csv', index=False, header=True)\n",
        "X_test.to_csv('X_test.csv', index=False, header=True)\n",
        "y_train.to_csv('y_train.csv', index=False, header=True)\n",
        "y_test.to_csv('y_test.csv', index=False, header=True)"
      ],
      "execution_count": null,
      "outputs": []
    },
    {
      "cell_type": "markdown",
      "metadata": {
        "id": "5RgDsGP4FTsk"
      },
      "source": [
        "# Tf-IDF Embedding"
      ]
    },
    {
      "cell_type": "code",
      "metadata": {
        "colab": {
          "base_uri": "https://localhost:8080/",
          "height": 195
        },
        "id": "hc-ZovbCDzgO",
        "outputId": "a5515516-9372-43a2-e750-8c16635eae4f"
      },
      "source": [
        "# Load the cleaned training and test sets\n",
        "import pandas as pd\n",
        "from sklearn.feature_extraction.text import TfidfVectorizer\n",
        "\n",
        "X_train = pd.read_csv('X_train.csv')\n",
        "X_test = pd.read_csv('X_test.csv')\n",
        "y_train = pd.read_csv('y_train.csv')\n",
        "y_test = pd.read_csv('y_test.csv')\n",
        "\n",
        "X_train.head()\n"
      ],
      "execution_count": null,
      "outputs": [
        {
          "output_type": "execute_result",
          "data": {
            "text/html": [
              "<div>\n",
              "<style scoped>\n",
              "    .dataframe tbody tr th:only-of-type {\n",
              "        vertical-align: middle;\n",
              "    }\n",
              "\n",
              "    .dataframe tbody tr th {\n",
              "        vertical-align: top;\n",
              "    }\n",
              "\n",
              "    .dataframe thead th {\n",
              "        text-align: right;\n",
              "    }\n",
              "</style>\n",
              "<table border=\"1\" class=\"dataframe\">\n",
              "  <thead>\n",
              "    <tr style=\"text-align: right;\">\n",
              "      <th></th>\n",
              "      <th>clean_text</th>\n",
              "    </tr>\n",
              "  </thead>\n",
              "  <tbody>\n",
              "    <tr>\n",
              "      <th>0</th>\n",
              "      <td>['pls', 'accept', 'one', 'day', 'begging', 'ch...</td>\n",
              "    </tr>\n",
              "    <tr>\n",
              "      <th>1</th>\n",
              "      <td>['hows', 'favourite', 'person', 'today', 'r', ...</td>\n",
              "    </tr>\n",
              "    <tr>\n",
              "      <th>2</th>\n",
              "      <td>['sent', 'ltgt', 'bucks']</td>\n",
              "    </tr>\n",
              "    <tr>\n",
              "      <th>3</th>\n",
              "      <td>['engalnd', 'telly', 'decided', 'wont', 'let',...</td>\n",
              "    </tr>\n",
              "    <tr>\n",
              "      <th>4</th>\n",
              "      <td>['easy', 'ahsen', 'got', 'selected', 'means', ...</td>\n",
              "    </tr>\n",
              "  </tbody>\n",
              "</table>\n",
              "</div>"
            ],
            "text/plain": [
              "                                          clean_text\n",
              "0  ['pls', 'accept', 'one', 'day', 'begging', 'ch...\n",
              "1  ['hows', 'favourite', 'person', 'today', 'r', ...\n",
              "2                          ['sent', 'ltgt', 'bucks']\n",
              "3  ['engalnd', 'telly', 'decided', 'wont', 'let',...\n",
              "4  ['easy', 'ahsen', 'got', 'selected', 'means', ..."
            ]
          },
          "metadata": {
            "tags": []
          },
          "execution_count": 6
        }
      ]
    },
    {
      "cell_type": "code",
      "metadata": {
        "id": "vZCQP7mJFe82"
      },
      "source": [
        "# Instantiate and fit a TFIDF vectorizer and then use that trained vectorizer\n",
        "# to transform the messages in the training and test sets\n",
        "tfidf_vect = TfidfVectorizer()\n",
        "tfidf_vect.fit(X_train['clean_text'])\n",
        "X_train_vect = tfidf_vect.transform(X_train['clean_text'])\n",
        "X_test_vect = tfidf_vect.transform(X_test['clean_text'])"
      ],
      "execution_count": null,
      "outputs": []
    },
    {
      "cell_type": "code",
      "metadata": {
        "colab": {
          "base_uri": "https://localhost:8080/"
        },
        "id": "y34g6mayFgny",
        "outputId": "e45f1050-a2fb-4105-9993-ef36e517649a"
      },
      "source": [
        "tfidf_vect.vocabulary_\n",
        "\n",
        "X_test_vect[0]\n",
        "X_test_vect[0].toarray()"
      ],
      "execution_count": null,
      "outputs": [
        {
          "output_type": "execute_result",
          "data": {
            "text/plain": [
              "array([[0., 0., 0., ..., 0., 0., 0.]])"
            ]
          },
          "metadata": {
            "tags": []
          },
          "execution_count": 8
        }
      ]
    },
    {
      "cell_type": "code",
      "metadata": {
        "id": "0sFuUKJwEDB9"
      },
      "source": [
        "# Random Forest Classifier on model\n",
        "from sklearn.ensemble import RandomForestClassifier\n",
        "\n",
        "rf = RandomForestClassifier()\n",
        "rf_model = rf.fit(X_train_vect, y_train.values.ravel())"
      ],
      "execution_count": null,
      "outputs": []
    },
    {
      "cell_type": "code",
      "metadata": {
        "id": "dkv0ymn6EFBX"
      },
      "source": [
        "# Use the trained model to make predictions on the test data\n",
        "y_pred = rf_model.predict(X_test_vect)"
      ],
      "execution_count": null,
      "outputs": []
    },
    {
      "cell_type": "code",
      "metadata": {
        "colab": {
          "base_uri": "https://localhost:8080/"
        },
        "id": "bS6xaUXHEHkd",
        "outputId": "f7a8c8f5-37c9-496c-bc4b-4017d28ad6d2"
      },
      "source": [
        "# Evaluate the predictions of the model on the holdout test set\n",
        "from sklearn.metrics import precision_score, recall_score\n",
        "\n",
        "precision = precision_score(y_test, y_pred)\n",
        "recall = recall_score(y_test, y_pred)\n",
        "print('Precision: {} / Recall: {} / Accuracy: {}'.format(\n",
        "    round(precision, 3), round(recall, 3), round((y_pred==y_test['label']).sum()/len(y_pred), 3)))"
      ],
      "execution_count": null,
      "outputs": [
        {
          "output_type": "stream",
          "text": [
            "Precision: 1.0 / Recall: 0.812 / Accuracy: 0.973\n"
          ],
          "name": "stdout"
        }
      ]
    },
    {
      "cell_type": "code",
      "metadata": {
        "id": "Y7f7a4sfD6Ru"
      },
      "source": [
        "# Instantiate and fit a TFIDF vectorizer and then use that trained vectorizer\n",
        "# to transform the messages in the training and test sets\n",
        "tfidf_vect = TfidfVectorizer()\n",
        "tfidf_vect.fit(X_train['clean_text'])\n",
        "X_train_vect = tfidf_vect.transform(X_train['clean_text'])\n",
        "X_test_vect = tfidf_vect.transform(X_test['clean_text'])"
      ],
      "execution_count": null,
      "outputs": []
    },
    {
      "cell_type": "markdown",
      "metadata": {
        "id": "FHN8-V7mEL1q"
      },
      "source": [
        "# Word2-Vec Embedding"
      ]
    },
    {
      "cell_type": "code",
      "metadata": {
        "colab": {
          "base_uri": "https://localhost:8080/",
          "height": 195
        },
        "id": "0ixSEquoEUQW",
        "outputId": "c56e95ed-cc8a-4e80-9b00-4421b926561e"
      },
      "source": [
        "# Load the cleaned training and test sets\n",
        "import gensim\n",
        "import numpy as np\n",
        "import pandas as pd\n",
        "\n",
        "X_train = pd.read_csv('X_train.csv')\n",
        "X_test = pd.read_csv('X_test.csv')\n",
        "y_train = pd.read_csv('y_train.csv')\n",
        "y_test = pd.read_csv('y_test.csv')\n",
        "\n",
        "X_train.head()"
      ],
      "execution_count": null,
      "outputs": [
        {
          "output_type": "execute_result",
          "data": {
            "text/html": [
              "<div>\n",
              "<style scoped>\n",
              "    .dataframe tbody tr th:only-of-type {\n",
              "        vertical-align: middle;\n",
              "    }\n",
              "\n",
              "    .dataframe tbody tr th {\n",
              "        vertical-align: top;\n",
              "    }\n",
              "\n",
              "    .dataframe thead th {\n",
              "        text-align: right;\n",
              "    }\n",
              "</style>\n",
              "<table border=\"1\" class=\"dataframe\">\n",
              "  <thead>\n",
              "    <tr style=\"text-align: right;\">\n",
              "      <th></th>\n",
              "      <th>clean_text</th>\n",
              "    </tr>\n",
              "  </thead>\n",
              "  <tbody>\n",
              "    <tr>\n",
              "      <th>0</th>\n",
              "      <td>['pls', 'accept', 'one', 'day', 'begging', 'ch...</td>\n",
              "    </tr>\n",
              "    <tr>\n",
              "      <th>1</th>\n",
              "      <td>['hows', 'favourite', 'person', 'today', 'r', ...</td>\n",
              "    </tr>\n",
              "    <tr>\n",
              "      <th>2</th>\n",
              "      <td>['sent', 'ltgt', 'bucks']</td>\n",
              "    </tr>\n",
              "    <tr>\n",
              "      <th>3</th>\n",
              "      <td>['engalnd', 'telly', 'decided', 'wont', 'let',...</td>\n",
              "    </tr>\n",
              "    <tr>\n",
              "      <th>4</th>\n",
              "      <td>['easy', 'ahsen', 'got', 'selected', 'means', ...</td>\n",
              "    </tr>\n",
              "  </tbody>\n",
              "</table>\n",
              "</div>"
            ],
            "text/plain": [
              "                                          clean_text\n",
              "0  ['pls', 'accept', 'one', 'day', 'begging', 'ch...\n",
              "1  ['hows', 'favourite', 'person', 'today', 'r', ...\n",
              "2                          ['sent', 'ltgt', 'bucks']\n",
              "3  ['engalnd', 'telly', 'decided', 'wont', 'let',...\n",
              "4  ['easy', 'ahsen', 'got', 'selected', 'means', ..."
            ]
          },
          "metadata": {
            "tags": []
          },
          "execution_count": 13
        }
      ]
    },
    {
      "cell_type": "code",
      "metadata": {
        "id": "i_17VtT9EbXw"
      },
      "source": [
        "# Train a basic word2vec model\n",
        "w2v_model = gensim.models.Word2Vec(X_train,\n",
        "                                   size=100,\n",
        "                                   window=5,\n",
        "                                   min_count=2)"
      ],
      "execution_count": null,
      "outputs": []
    },
    {
      "cell_type": "code",
      "metadata": {
        "id": "GS8pM4lREc2x"
      },
      "source": [
        "# Replace the words in each text message with the learned word vector\n",
        "words = set(w2v_model.wv.index2word)\n",
        "X_train_vect = np.array([np.array([w2v_model.wv[i] for i in ls if i in words])\n",
        "                         for ls in X_train['clean_text']])\n",
        "X_test_vect = np.array([np.array([w2v_model.wv[i] for i in ls if i in words])\n",
        "                         for ls in X_test['clean_text']])"
      ],
      "execution_count": null,
      "outputs": []
    },
    {
      "cell_type": "code",
      "metadata": {
        "id": "1kRqv0X_EfDy"
      },
      "source": [
        "# Average the word vectors for each sentence (and assign a vector of zeros if the model\n",
        "# did not learn any of the words in the text message during training\n",
        "X_train_vect_avg = []\n",
        "for v in X_train_vect:\n",
        "    if v.size:\n",
        "        X_train_vect_avg.append(v.mean(axis=0))\n",
        "    else:\n",
        "        X_train_vect_avg.append(np.zeros(100, dtype=float))\n",
        "        \n",
        "X_test_vect_avg = []\n",
        "for v in X_test_vect:\n",
        "    if v.size:\n",
        "        X_test_vect_avg.append(v.mean(axis=0))\n",
        "    else:\n",
        "        X_test_vect_avg.append(np.zeros(100, dtype=float))"
      ],
      "execution_count": null,
      "outputs": []
    },
    {
      "cell_type": "code",
      "metadata": {
        "colab": {
          "base_uri": "https://localhost:8080/"
        },
        "id": "oqL4HfGMEhKu",
        "outputId": "aa313101-3d44-4c6f-b16d-d8327aa3fed0"
      },
      "source": [
        "X_train_vect[0]"
      ],
      "execution_count": null,
      "outputs": [
        {
          "output_type": "execute_result",
          "data": {
            "text/plain": [
              "array([[ 8.1987621e-04,  2.3818112e-03, -2.9777496e-03, -5.2963092e-04,\n",
              "        -3.3515536e-03,  3.3166863e-03,  2.2624165e-03,  3.3559178e-03,\n",
              "        -3.7332720e-03,  1.5694392e-03,  3.4957977e-03,  1.3440943e-03,\n",
              "         3.2505448e-04, -4.8386422e-03, -7.1138423e-04,  1.6191546e-03,\n",
              "        -3.5697054e-03,  4.8921336e-03, -4.8299134e-03,  4.2894538e-03,\n",
              "         2.9227014e-03, -3.4072238e-03,  2.4859291e-03, -2.2999798e-03,\n",
              "         4.8154700e-03, -2.5901441e-03,  4.7749234e-03, -1.3979864e-03,\n",
              "        -7.4551528e-04, -2.1103059e-03, -8.6623506e-04,  4.0371115e-03,\n",
              "        -3.3676913e-03,  1.4209012e-03, -2.4762359e-03,  3.1111173e-03,\n",
              "        -1.5656339e-04,  3.4181019e-03,  1.2699701e-03, -1.2477832e-03,\n",
              "         4.9269702e-03,  2.4053410e-03,  1.9048796e-04, -1.0019782e-03,\n",
              "         2.2170083e-03,  3.7691384e-03, -8.7282569e-05,  4.2459220e-03,\n",
              "        -4.1917949e-03,  5.4249336e-05,  1.0712908e-03, -3.1590208e-03,\n",
              "         3.5361964e-03,  3.3352256e-03, -4.9199834e-03, -1.7775119e-03,\n",
              "        -4.1264696e-03,  3.9705695e-03,  3.6858353e-03, -2.7720106e-03,\n",
              "         1.1536096e-03,  4.0240767e-03, -1.9399488e-03, -3.7512989e-03,\n",
              "        -2.5576036e-03, -1.2855246e-03,  1.8298198e-04, -1.8914865e-03,\n",
              "         4.4863927e-03, -1.6481002e-03, -3.0174227e-03,  1.2827994e-03,\n",
              "        -3.3614556e-03,  4.3827300e-03,  4.0891352e-03, -6.4907112e-04,\n",
              "         8.8290044e-04,  3.3984098e-03,  4.9277153e-03, -2.2251650e-03,\n",
              "         2.7666247e-04, -2.7731755e-03,  1.5169542e-03, -7.6857468e-05,\n",
              "         1.4942642e-03,  4.0062885e-03, -1.1359871e-03,  5.1184319e-04,\n",
              "        -2.3022089e-03, -3.0655677e-03,  1.3512489e-03, -7.7045092e-04,\n",
              "         1.5872822e-03,  5.1725138e-04,  3.1048889e-04,  3.1772458e-03,\n",
              "        -4.0317755e-03, -4.9733142e-03,  1.5441997e-03,  2.6634640e-05],\n",
              "       [-4.6261330e-04, -3.8800556e-03, -1.2900477e-03,  3.9946274e-03,\n",
              "         4.8303227e-03,  1.9754469e-03, -1.1388210e-03, -2.1769577e-03,\n",
              "         3.1012467e-03, -4.7862981e-03,  1.9827557e-03,  3.4647968e-03,\n",
              "        -1.5837434e-03,  3.6957676e-03,  2.5561077e-03,  5.9437891e-04,\n",
              "        -5.0739531e-04, -2.5132403e-03, -1.3274234e-03, -1.4691723e-03,\n",
              "        -3.5552552e-03,  3.4723252e-03,  1.7846227e-03,  4.3337322e-03,\n",
              "         4.9352362e-03, -4.5433133e-03,  4.2438605e-06, -4.8781470e-03,\n",
              "         4.7837794e-03, -4.7420110e-03,  1.7626081e-03,  2.7220009e-04,\n",
              "         1.2400429e-03, -3.0618487e-03, -3.0316296e-03, -3.6611562e-03,\n",
              "         3.5997003e-03,  4.0062885e-03,  4.9319123e-03,  8.0897298e-06,\n",
              "        -3.0814961e-03,  3.7999884e-03,  3.7069540e-03,  4.4928542e-03,\n",
              "        -4.6023596e-03, -2.9392536e-03, -3.5491763e-03,  4.2718030e-03,\n",
              "        -1.5218963e-03, -9.1159495e-04, -2.5020584e-03,  1.8699393e-04,\n",
              "        -5.2937603e-04, -3.4469275e-03,  1.9244520e-03,  4.2325677e-03,\n",
              "        -1.0761840e-03,  3.8069095e-03, -4.6865242e-03,  2.4630497e-03,\n",
              "         4.1294093e-03,  4.9545425e-03,  2.6962038e-03, -4.8824069e-03,\n",
              "         1.6453406e-03,  3.0466542e-03, -1.5171274e-03, -4.3052817e-03,\n",
              "         6.5204059e-04, -3.9085080e-03,  1.4943398e-03, -4.4009127e-03,\n",
              "        -1.6810846e-03, -4.3838941e-03,  2.6164777e-03,  4.1594552e-03,\n",
              "        -4.5391051e-03, -4.4354037e-03,  2.2737446e-04, -4.4056871e-03,\n",
              "        -2.6655989e-03, -3.7533620e-03, -3.3265091e-03, -3.8768863e-03,\n",
              "        -5.4874661e-04,  1.7936918e-03, -4.5282856e-04, -1.6117239e-04,\n",
              "        -1.0655996e-03,  5.2532909e-04,  5.7331129e-04,  2.5186916e-03,\n",
              "         4.4123424e-04,  4.6359277e-03, -3.8331670e-03,  3.5735420e-03,\n",
              "        -2.3196191e-03, -2.9824714e-03, -3.1416430e-03,  2.0003675e-03],\n",
              "       [ 8.1987621e-04,  2.3818112e-03, -2.9777496e-03, -5.2963092e-04,\n",
              "        -3.3515536e-03,  3.3166863e-03,  2.2624165e-03,  3.3559178e-03,\n",
              "        -3.7332720e-03,  1.5694392e-03,  3.4957977e-03,  1.3440943e-03,\n",
              "         3.2505448e-04, -4.8386422e-03, -7.1138423e-04,  1.6191546e-03,\n",
              "        -3.5697054e-03,  4.8921336e-03, -4.8299134e-03,  4.2894538e-03,\n",
              "         2.9227014e-03, -3.4072238e-03,  2.4859291e-03, -2.2999798e-03,\n",
              "         4.8154700e-03, -2.5901441e-03,  4.7749234e-03, -1.3979864e-03,\n",
              "        -7.4551528e-04, -2.1103059e-03, -8.6623506e-04,  4.0371115e-03,\n",
              "        -3.3676913e-03,  1.4209012e-03, -2.4762359e-03,  3.1111173e-03,\n",
              "        -1.5656339e-04,  3.4181019e-03,  1.2699701e-03, -1.2477832e-03,\n",
              "         4.9269702e-03,  2.4053410e-03,  1.9048796e-04, -1.0019782e-03,\n",
              "         2.2170083e-03,  3.7691384e-03, -8.7282569e-05,  4.2459220e-03,\n",
              "        -4.1917949e-03,  5.4249336e-05,  1.0712908e-03, -3.1590208e-03,\n",
              "         3.5361964e-03,  3.3352256e-03, -4.9199834e-03, -1.7775119e-03,\n",
              "        -4.1264696e-03,  3.9705695e-03,  3.6858353e-03, -2.7720106e-03,\n",
              "         1.1536096e-03,  4.0240767e-03, -1.9399488e-03, -3.7512989e-03,\n",
              "        -2.5576036e-03, -1.2855246e-03,  1.8298198e-04, -1.8914865e-03,\n",
              "         4.4863927e-03, -1.6481002e-03, -3.0174227e-03,  1.2827994e-03,\n",
              "        -3.3614556e-03,  4.3827300e-03,  4.0891352e-03, -6.4907112e-04,\n",
              "         8.8290044e-04,  3.3984098e-03,  4.9277153e-03, -2.2251650e-03,\n",
              "         2.7666247e-04, -2.7731755e-03,  1.5169542e-03, -7.6857468e-05,\n",
              "         1.4942642e-03,  4.0062885e-03, -1.1359871e-03,  5.1184319e-04,\n",
              "        -2.3022089e-03, -3.0655677e-03,  1.3512489e-03, -7.7045092e-04,\n",
              "         1.5872822e-03,  5.1725138e-04,  3.1048889e-04,  3.1772458e-03,\n",
              "        -4.0317755e-03, -4.9733142e-03,  1.5441997e-03,  2.6634640e-05],\n",
              "       [ 8.1987621e-04,  2.3818112e-03, -2.9777496e-03, -5.2963092e-04,\n",
              "        -3.3515536e-03,  3.3166863e-03,  2.2624165e-03,  3.3559178e-03,\n",
              "        -3.7332720e-03,  1.5694392e-03,  3.4957977e-03,  1.3440943e-03,\n",
              "         3.2505448e-04, -4.8386422e-03, -7.1138423e-04,  1.6191546e-03,\n",
              "        -3.5697054e-03,  4.8921336e-03, -4.8299134e-03,  4.2894538e-03,\n",
              "         2.9227014e-03, -3.4072238e-03,  2.4859291e-03, -2.2999798e-03,\n",
              "         4.8154700e-03, -2.5901441e-03,  4.7749234e-03, -1.3979864e-03,\n",
              "        -7.4551528e-04, -2.1103059e-03, -8.6623506e-04,  4.0371115e-03,\n",
              "        -3.3676913e-03,  1.4209012e-03, -2.4762359e-03,  3.1111173e-03,\n",
              "        -1.5656339e-04,  3.4181019e-03,  1.2699701e-03, -1.2477832e-03,\n",
              "         4.9269702e-03,  2.4053410e-03,  1.9048796e-04, -1.0019782e-03,\n",
              "         2.2170083e-03,  3.7691384e-03, -8.7282569e-05,  4.2459220e-03,\n",
              "        -4.1917949e-03,  5.4249336e-05,  1.0712908e-03, -3.1590208e-03,\n",
              "         3.5361964e-03,  3.3352256e-03, -4.9199834e-03, -1.7775119e-03,\n",
              "        -4.1264696e-03,  3.9705695e-03,  3.6858353e-03, -2.7720106e-03,\n",
              "         1.1536096e-03,  4.0240767e-03, -1.9399488e-03, -3.7512989e-03,\n",
              "        -2.5576036e-03, -1.2855246e-03,  1.8298198e-04, -1.8914865e-03,\n",
              "         4.4863927e-03, -1.6481002e-03, -3.0174227e-03,  1.2827994e-03,\n",
              "        -3.3614556e-03,  4.3827300e-03,  4.0891352e-03, -6.4907112e-04,\n",
              "         8.8290044e-04,  3.3984098e-03,  4.9277153e-03, -2.2251650e-03,\n",
              "         2.7666247e-04, -2.7731755e-03,  1.5169542e-03, -7.6857468e-05,\n",
              "         1.4942642e-03,  4.0062885e-03, -1.1359871e-03,  5.1184319e-04,\n",
              "        -2.3022089e-03, -3.0655677e-03,  1.3512489e-03, -7.7045092e-04,\n",
              "         1.5872822e-03,  5.1725138e-04,  3.1048889e-04,  3.1772458e-03,\n",
              "        -4.0317755e-03, -4.9733142e-03,  1.5441997e-03,  2.6634640e-05],\n",
              "       [ 8.1987621e-04,  2.3818112e-03, -2.9777496e-03, -5.2963092e-04,\n",
              "        -3.3515536e-03,  3.3166863e-03,  2.2624165e-03,  3.3559178e-03,\n",
              "        -3.7332720e-03,  1.5694392e-03,  3.4957977e-03,  1.3440943e-03,\n",
              "         3.2505448e-04, -4.8386422e-03, -7.1138423e-04,  1.6191546e-03,\n",
              "        -3.5697054e-03,  4.8921336e-03, -4.8299134e-03,  4.2894538e-03,\n",
              "         2.9227014e-03, -3.4072238e-03,  2.4859291e-03, -2.2999798e-03,\n",
              "         4.8154700e-03, -2.5901441e-03,  4.7749234e-03, -1.3979864e-03,\n",
              "        -7.4551528e-04, -2.1103059e-03, -8.6623506e-04,  4.0371115e-03,\n",
              "        -3.3676913e-03,  1.4209012e-03, -2.4762359e-03,  3.1111173e-03,\n",
              "        -1.5656339e-04,  3.4181019e-03,  1.2699701e-03, -1.2477832e-03,\n",
              "         4.9269702e-03,  2.4053410e-03,  1.9048796e-04, -1.0019782e-03,\n",
              "         2.2170083e-03,  3.7691384e-03, -8.7282569e-05,  4.2459220e-03,\n",
              "        -4.1917949e-03,  5.4249336e-05,  1.0712908e-03, -3.1590208e-03,\n",
              "         3.5361964e-03,  3.3352256e-03, -4.9199834e-03, -1.7775119e-03,\n",
              "        -4.1264696e-03,  3.9705695e-03,  3.6858353e-03, -2.7720106e-03,\n",
              "         1.1536096e-03,  4.0240767e-03, -1.9399488e-03, -3.7512989e-03,\n",
              "        -2.5576036e-03, -1.2855246e-03,  1.8298198e-04, -1.8914865e-03,\n",
              "         4.4863927e-03, -1.6481002e-03, -3.0174227e-03,  1.2827994e-03,\n",
              "        -3.3614556e-03,  4.3827300e-03,  4.0891352e-03, -6.4907112e-04,\n",
              "         8.8290044e-04,  3.3984098e-03,  4.9277153e-03, -2.2251650e-03,\n",
              "         2.7666247e-04, -2.7731755e-03,  1.5169542e-03, -7.6857468e-05,\n",
              "         1.4942642e-03,  4.0062885e-03, -1.1359871e-03,  5.1184319e-04,\n",
              "        -2.3022089e-03, -3.0655677e-03,  1.3512489e-03, -7.7045092e-04,\n",
              "         1.5872822e-03,  5.1725138e-04,  3.1048889e-04,  3.1772458e-03,\n",
              "        -4.0317755e-03, -4.9733142e-03,  1.5441997e-03,  2.6634640e-05],\n",
              "       [ 8.1987621e-04,  2.3818112e-03, -2.9777496e-03, -5.2963092e-04,\n",
              "        -3.3515536e-03,  3.3166863e-03,  2.2624165e-03,  3.3559178e-03,\n",
              "        -3.7332720e-03,  1.5694392e-03,  3.4957977e-03,  1.3440943e-03,\n",
              "         3.2505448e-04, -4.8386422e-03, -7.1138423e-04,  1.6191546e-03,\n",
              "        -3.5697054e-03,  4.8921336e-03, -4.8299134e-03,  4.2894538e-03,\n",
              "         2.9227014e-03, -3.4072238e-03,  2.4859291e-03, -2.2999798e-03,\n",
              "         4.8154700e-03, -2.5901441e-03,  4.7749234e-03, -1.3979864e-03,\n",
              "        -7.4551528e-04, -2.1103059e-03, -8.6623506e-04,  4.0371115e-03,\n",
              "        -3.3676913e-03,  1.4209012e-03, -2.4762359e-03,  3.1111173e-03,\n",
              "        -1.5656339e-04,  3.4181019e-03,  1.2699701e-03, -1.2477832e-03,\n",
              "         4.9269702e-03,  2.4053410e-03,  1.9048796e-04, -1.0019782e-03,\n",
              "         2.2170083e-03,  3.7691384e-03, -8.7282569e-05,  4.2459220e-03,\n",
              "        -4.1917949e-03,  5.4249336e-05,  1.0712908e-03, -3.1590208e-03,\n",
              "         3.5361964e-03,  3.3352256e-03, -4.9199834e-03, -1.7775119e-03,\n",
              "        -4.1264696e-03,  3.9705695e-03,  3.6858353e-03, -2.7720106e-03,\n",
              "         1.1536096e-03,  4.0240767e-03, -1.9399488e-03, -3.7512989e-03,\n",
              "        -2.5576036e-03, -1.2855246e-03,  1.8298198e-04, -1.8914865e-03,\n",
              "         4.4863927e-03, -1.6481002e-03, -3.0174227e-03,  1.2827994e-03,\n",
              "        -3.3614556e-03,  4.3827300e-03,  4.0891352e-03, -6.4907112e-04,\n",
              "         8.8290044e-04,  3.3984098e-03,  4.9277153e-03, -2.2251650e-03,\n",
              "         2.7666247e-04, -2.7731755e-03,  1.5169542e-03, -7.6857468e-05,\n",
              "         1.4942642e-03,  4.0062885e-03, -1.1359871e-03,  5.1184319e-04,\n",
              "        -2.3022089e-03, -3.0655677e-03,  1.3512489e-03, -7.7045092e-04,\n",
              "         1.5872822e-03,  5.1725138e-04,  3.1048889e-04,  3.1772458e-03,\n",
              "        -4.0317755e-03, -4.9733142e-03,  1.5441997e-03,  2.6634640e-05]],\n",
              "      dtype=float32)"
            ]
          },
          "metadata": {
            "tags": []
          },
          "execution_count": 18
        }
      ]
    },
    {
      "cell_type": "code",
      "metadata": {
        "colab": {
          "base_uri": "https://localhost:8080/"
        },
        "id": "yx5RimEdEkMf",
        "outputId": "df7476e7-2ddd-4c84-94c1-44a8b151e346"
      },
      "source": [
        "X_train_vect_avg[0]"
      ],
      "execution_count": null,
      "outputs": [
        {
          "output_type": "execute_result",
          "data": {
            "text/plain": [
              "array([ 6.06128015e-04,  1.33816665e-03, -2.69646593e-03,  2.24412070e-04,\n",
              "       -1.98790734e-03,  3.09314649e-03,  1.69554353e-03,  2.43377173e-03,\n",
              "       -2.59418529e-03,  5.10149635e-04,  3.24362400e-03,  1.69754459e-03,\n",
              "        6.92152162e-06, -3.41624045e-03, -1.66802245e-04,  1.44835876e-03,\n",
              "       -3.05932038e-03,  3.65790445e-03, -4.24616504e-03,  3.32968286e-03,\n",
              "        1.84304209e-03, -2.26063235e-03,  2.36904458e-03, -1.19436113e-03,\n",
              "        4.83543100e-03, -2.91567226e-03,  3.97981005e-03, -1.97801297e-03,\n",
              "        1.76033776e-04, -2.54892348e-03, -4.28094529e-04,  3.40962666e-03,\n",
              "       -2.59973551e-03,  6.73776201e-04, -2.56880163e-03,  1.98240508e-03,\n",
              "        4.69480496e-04,  3.51613318e-03,  1.88029371e-03, -1.03847112e-03,\n",
              "        3.59222572e-03,  2.63778213e-03,  7.76565692e-04, -8.61728113e-05,\n",
              "        1.08044699e-03,  2.65107304e-03, -6.64264895e-04,  4.25023539e-03,\n",
              "       -3.74681200e-03, -1.06724736e-04,  4.75732610e-04, -2.60135182e-03,\n",
              "        2.85860081e-03,  2.20486685e-03, -3.77924438e-03, -7.75831984e-04,\n",
              "       -3.61808878e-03,  3.94329289e-03,  2.29044189e-03, -1.89950073e-03,\n",
              "        1.64957624e-03,  4.17915452e-03, -1.16725662e-03, -3.93981673e-03,\n",
              "       -1.85711298e-03, -5.63494803e-04, -1.00369602e-04, -2.29378557e-03,\n",
              "        3.84733430e-03, -2.02483474e-03, -2.26546242e-03,  3.35514080e-04,\n",
              "       -3.08139413e-03,  2.92162597e-03,  3.84369236e-03,  1.52349967e-04,\n",
              "       -2.07671928e-05,  2.09277426e-03,  4.14432539e-03, -2.58858548e-03,\n",
              "       -2.13714477e-04, -2.93653947e-03,  7.09710235e-04, -7.10195571e-04,\n",
              "        1.15376245e-03,  3.63752246e-03, -1.02212734e-03,  3.99673940e-04,\n",
              "       -2.09610746e-03, -2.46708491e-03,  1.22159265e-03, -2.22260496e-04,\n",
              "        1.39627419e-03,  1.20369752e-03, -3.80120357e-04,  3.24329524e-03,\n",
              "       -3.74641619e-03, -4.64150729e-03,  7.63225835e-04,  3.55590135e-04],\n",
              "      dtype=float32)"
            ]
          },
          "metadata": {
            "tags": []
          },
          "execution_count": 19
        }
      ]
    },
    {
      "cell_type": "code",
      "metadata": {
        "id": "yvdc6FI2Em4a"
      },
      "source": [
        "from sklearn.ensemble import RandomForestClassifier\n",
        "\n",
        "rf = RandomForestClassifier()\n",
        "rf_model = rf.fit(X_train_vect_avg, y_train.values.ravel())"
      ],
      "execution_count": null,
      "outputs": []
    },
    {
      "cell_type": "code",
      "metadata": {
        "id": "ekFOYJmWEpHp"
      },
      "source": [
        "y_pred = rf_model.predict(X_test_vect_avg)"
      ],
      "execution_count": null,
      "outputs": []
    },
    {
      "cell_type": "code",
      "metadata": {
        "colab": {
          "base_uri": "https://localhost:8080/"
        },
        "id": "r9qtGC3gEqZU",
        "outputId": "14e853bf-b712-4445-c7d0-0b4a0a0f593a"
      },
      "source": [
        "from sklearn.metrics import precision_score, recall_score\n",
        "\n",
        "precision = precision_score(y_test, y_pred)\n",
        "recall = recall_score(y_test, y_pred)\n",
        "print('Precision: {} / Recall: {} / Accuracy: {}'.format(\n",
        "    round(precision, 3), round(recall, 3), round((y_pred==y_test['label']).sum()/len(y_pred), 3)))"
      ],
      "execution_count": null,
      "outputs": [
        {
          "output_type": "stream",
          "text": [
            "Precision: 0.5 / Recall: 0.231 / Accuracy: 0.857\n"
          ],
          "name": "stdout"
        }
      ]
    },
    {
      "cell_type": "markdown",
      "metadata": {
        "id": "6yTQh3MTEsr5"
      },
      "source": [
        "# RNN Model"
      ]
    },
    {
      "cell_type": "code",
      "metadata": {
        "colab": {
          "resources": {
            "http://localhost:8080/nbextensions/google.colab/files.js": {
              "data": "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",
              "ok": true,
              "headers": [
                [
                  "content-type",
                  "application/javascript"
                ]
              ],
              "status": 200,
              "status_text": ""
            }
          },
          "base_uri": "https://localhost:8080/",
          "height": 211
        },
        "id": "LYq-B6Q9BWdP",
        "outputId": "3c99c8f8-81f0-4232-a225-4926d7101214"
      },
      "source": [
        "# Load the cleaned training and test sets\n",
        "# from keras.preprocessing.text import Tokenizer\n",
        "# from keras.preprocessing.sequence import pad_sequences\n",
        "# import pandas as pd\n",
        "\n",
        "import io\n",
        "from google.colab import files\n",
        "uploaded = files.upload()\n",
        "\n",
        "import tensorflow as tf\n",
        "from tensorflow import keras\n",
        "from tensorflow.keras.models import Sequential\n",
        "from tensorflow.keras.layers import Dense\n",
        "from tensorflow.keras.layers import Dropout\n",
        "from tensorflow.keras.layers import Embedding\n",
        "from tensorflow.keras.layers import LSTM\n",
        "import pandas as pd\n",
        "from tensorflow.keras.preprocessing.text import Tokenizer\n",
        "from tensorflow.keras.preprocessing.sequence import pad_sequences\n",
        "from tensorflow.keras import backend as K\n",
        "\n",
        "X_train = pd.read_csv(io.BytesIO(uploaded['X_train.csv']))\n",
        "X_test = pd.read_csv(io.BytesIO(uploaded['X_test.csv']))\n",
        "y_train = pd.read_csv(io.BytesIO(uploaded['y_train.csv']))\n",
        "y_test = pd.read_csv(io.BytesIO(uploaded['y_test.csv']))"
      ],
      "execution_count": null,
      "outputs": [
        {
          "output_type": "display_data",
          "data": {
            "text/html": [
              "\n",
              "     <input type=\"file\" id=\"files-286b20b7-4ca3-4ba2-9c2c-178aa680b6b6\" name=\"files[]\" multiple disabled\n",
              "        style=\"border:none\" />\n",
              "     <output id=\"result-286b20b7-4ca3-4ba2-9c2c-178aa680b6b6\">\n",
              "      Upload widget is only available when the cell has been executed in the\n",
              "      current browser session. Please rerun this cell to enable.\n",
              "      </output>\n",
              "      <script src=\"/nbextensions/google.colab/files.js\"></script> "
            ],
            "text/plain": [
              "<IPython.core.display.HTML object>"
            ]
          },
          "metadata": {
            "tags": []
          }
        },
        {
          "output_type": "stream",
          "text": [
            "Saving spam.csv to spam (1).csv\n",
            "Saving X_test.csv to X_test (1).csv\n",
            "Saving X_train.csv to X_train (1).csv\n",
            "Saving y_test.csv to y_test (1).csv\n",
            "Saving y_train.csv to y_train (1).csv\n"
          ],
          "name": "stdout"
        }
      ]
    },
    {
      "cell_type": "code",
      "metadata": {
        "colab": {
          "base_uri": "https://localhost:8080/"
        },
        "id": "ypysKJiKDHIz",
        "outputId": "0c6fee71-3a22-466b-bf86-16f9719c7e25"
      },
      "source": [
        "print(X_train)"
      ],
      "execution_count": null,
      "outputs": [
        {
          "output_type": "stream",
          "text": [
            "                                             clean_text\n",
            "0            ['kkwhy', 'cant', 'come', 'search', 'job']\n",
            "1     ['yup', 'hey', 'one', 'day', 'fri', 'ask', 'mi...\n",
            "2                    ['ya', 'even', 'cookies', 'jelly']\n",
            "3     ['think', 'û', 'waiting', 'bus', 'inform', 'ge...\n",
            "4               ['lol', 'mad', 'first', 'woke', 'gave']\n",
            "...                                                 ...\n",
            "4452         ['going', 'write', 'ccna', 'exam', 'week']\n",
            "4453                         ['home', 'always', 'chat']\n",
            "4454  ['urgent', 'mobile', '07808726822', 'awarded',...\n",
            "4455                                  ['number', 'sir']\n",
            "4456  ['dont', 'cancer', 'moms', 'making', 'big', 'd...\n",
            "\n",
            "[4457 rows x 1 columns]\n"
          ],
          "name": "stdout"
        }
      ]
    },
    {
      "cell_type": "code",
      "metadata": {
        "id": "RLBDf-2FDCVc"
      },
      "source": [
        "# Train the tokenizer and use that tokenizer to convert the sentences to sequences of numbers\n",
        "tokenizer = Tokenizer()\n",
        "tokenizer.fit_on_texts(X_train['clean_text'])\n",
        "X_train_seq = tokenizer.texts_to_sequences(X_train['clean_text'])\n",
        "X_test_seq = tokenizer.texts_to_sequences(X_test['clean_text'])"
      ],
      "execution_count": null,
      "outputs": []
    },
    {
      "cell_type": "code",
      "metadata": {
        "colab": {
          "base_uri": "https://localhost:8080/"
        },
        "id": "Y_fuX0OREHOL",
        "outputId": "5b5082aa-63ac-4fcd-a99b-3a2ccd0d114b"
      },
      "source": [
        "X_train_seq_padded = pad_sequences(X_train_seq, 50)\n",
        "X_test_seq_padded = pad_sequences(X_test_seq, 50)\n",
        "\n",
        "\n",
        "def recall_m(y_true, y_pred):\n",
        "        true_positives = K.sum(K.round(K.clip(y_true * y_pred, 0, 1)))\n",
        "        possible_positives = K.sum(K.round(K.clip(y_true, 0, 1)))\n",
        "        recall = true_positives / (possible_positives + K.epsilon())\n",
        "        return recall\n",
        "\n",
        "def precision_m(y_true, y_pred):\n",
        "        true_positives = K.sum(K.round(K.clip(y_true * y_pred, 0, 1)))\n",
        "        predicted_positives = K.sum(K.round(K.clip(y_pred, 0, 1)))\n",
        "        precision = true_positives / (predicted_positives + K.epsilon())\n",
        "        return precision\n",
        "\n",
        "tokenizer = Tokenizer(num_words=1000)\n",
        "tokenizer.fit_on_texts(X_train['clean_text'])\n",
        "\n",
        "one_hot_results = tokenizer.texts_to_matrix(X_train['clean_text'], mode='binary')\n",
        "\n",
        "word_index = tokenizer.word_index\n",
        "print('Found %s unique tokens.' % len(word_index))\n",
        "\n",
        "model = Sequential()\n",
        "\n",
        "model.add(Embedding(len(word_index)+1, 32))\n",
        "model.add(LSTM(32, dropout=0, recurrent_dropout=0))\n",
        "model.add(Dense(32, activation='relu'))\n",
        "model.add(Dense(1, activation='sigmoid'))\n",
        "model.summary()\n",
        "\n"
      ],
      "execution_count": null,
      "outputs": [
        {
          "output_type": "stream",
          "text": [
            "Found 8261 unique tokens.\n",
            "Model: \"sequential\"\n",
            "_________________________________________________________________\n",
            "Layer (type)                 Output Shape              Param #   \n",
            "=================================================================\n",
            "embedding (Embedding)        (None, None, 32)          264384    \n",
            "_________________________________________________________________\n",
            "lstm (LSTM)                  (None, 32)                8320      \n",
            "_________________________________________________________________\n",
            "dense (Dense)                (None, 32)                1056      \n",
            "_________________________________________________________________\n",
            "dense_1 (Dense)              (None, 1)                 33        \n",
            "=================================================================\n",
            "Total params: 273,793\n",
            "Trainable params: 273,793\n",
            "Non-trainable params: 0\n",
            "_________________________________________________________________\n"
          ],
          "name": "stdout"
        }
      ]
    },
    {
      "cell_type": "code",
      "metadata": {
        "id": "DilspjjJEUKa"
      },
      "source": [
        "# # Train the tokenizer and use that tokenizer to convert the sentences to sequences of numbers\n",
        "model.compile(optimizer='adam',\n",
        "              loss='binary_crossentropy',\n",
        "              metrics=['accuracy', precision_m, recall_m])"
      ],
      "execution_count": null,
      "outputs": []
    },
    {
      "cell_type": "code",
      "metadata": {
        "colab": {
          "base_uri": "https://localhost:8080/"
        },
        "id": "3O3U762SEXcV",
        "outputId": "a0dd213b-825a-46fb-c9b8-91b907dbf66b"
      },
      "source": [
        "# Fit the RNN\n",
        "history = model.fit(X_train_seq_padded, y_train['label'], \n",
        "                    batch_size=32, epochs=10,\n",
        "                    validation_data=(X_test_seq_padded, y_test))"
      ],
      "execution_count": null,
      "outputs": [
        {
          "output_type": "stream",
          "text": [
            "Epoch 1/10\n",
            "140/140 [==============================] - 4s 30ms/step - loss: 0.2520 - accuracy: 0.9237 - precision_m: 0.5394 - recall_m: 0.4367 - val_loss: 0.0661 - val_accuracy: 0.9830 - val_precision_m: 0.9552 - val_recall_m: 0.8849\n",
            "Epoch 2/10\n",
            "140/140 [==============================] - 4s 27ms/step - loss: 0.0339 - accuracy: 0.9910 - precision_m: 0.9678 - recall_m: 0.9404 - val_loss: 0.0534 - val_accuracy: 0.9857 - val_precision_m: 0.9667 - val_recall_m: 0.8913\n",
            "Epoch 3/10\n",
            "140/140 [==============================] - 4s 28ms/step - loss: 0.0112 - accuracy: 0.9978 - precision_m: 0.9714 - recall_m: 0.9590 - val_loss: 0.0655 - val_accuracy: 0.9830 - val_precision_m: 0.9714 - val_recall_m: 0.8703\n",
            "Epoch 4/10\n",
            "140/140 [==============================] - 4s 26ms/step - loss: 0.0032 - accuracy: 0.9989 - precision_m: 0.9976 - recall_m: 0.9937 - val_loss: 0.0835 - val_accuracy: 0.9865 - val_precision_m: 1.0000 - val_recall_m: 0.9151\n",
            "Epoch 5/10\n",
            "140/140 [==============================] - 4s 27ms/step - loss: 0.0011 - accuracy: 0.9996 - precision_m: 0.9786 - recall_m: 0.9750 - val_loss: 0.0723 - val_accuracy: 0.9848 - val_precision_m: 0.9807 - val_recall_m: 0.9208\n",
            "Epoch 6/10\n",
            "140/140 [==============================] - 4s 27ms/step - loss: 2.9691e-04 - accuracy: 1.0000 - precision_m: 0.9714 - recall_m: 0.9714 - val_loss: 0.0894 - val_accuracy: 0.9857 - val_precision_m: 0.9848 - val_recall_m: 0.9208\n",
            "Epoch 7/10\n",
            "140/140 [==============================] - 4s 27ms/step - loss: 1.4844e-04 - accuracy: 1.0000 - precision_m: 0.9714 - recall_m: 0.9714 - val_loss: 0.0937 - val_accuracy: 0.9848 - val_precision_m: 0.9848 - val_recall_m: 0.9151\n",
            "Epoch 8/10\n",
            "140/140 [==============================] - 4s 26ms/step - loss: 1.0832e-04 - accuracy: 1.0000 - precision_m: 0.9857 - recall_m: 0.9857 - val_loss: 0.0948 - val_accuracy: 0.9857 - val_precision_m: 0.9848 - val_recall_m: 0.9208\n",
            "Epoch 9/10\n",
            "140/140 [==============================] - 4s 27ms/step - loss: 7.7588e-05 - accuracy: 1.0000 - precision_m: 1.0000 - recall_m: 1.0000 - val_loss: 0.0972 - val_accuracy: 0.9857 - val_precision_m: 0.9848 - val_recall_m: 0.9208\n",
            "Epoch 10/10\n",
            "140/140 [==============================] - 4s 26ms/step - loss: 5.9207e-05 - accuracy: 1.0000 - precision_m: 1.0000 - recall_m: 1.0000 - val_loss: 0.1007 - val_accuracy: 0.9857 - val_precision_m: 0.9848 - val_recall_m: 0.9208\n"
          ],
          "name": "stdout"
        }
      ]
    },
    {
      "cell_type": "code",
      "metadata": {
        "colab": {
          "base_uri": "https://localhost:8080/",
          "height": 809
        },
        "id": "3IOed6kiEbux",
        "outputId": "49736cca-5cc9-4f4f-df60-73759b884696"
      },
      "source": [
        "import matplotlib.pyplot as plt\n",
        "%matplotlib inline\n",
        "\n",
        "for i in ['accuracy', 'precision_m', 'recall_m']:\n",
        "    acc = history.history[i]\n",
        "    val_acc = history.history['val_{}'.format(i)]\n",
        "    epochs = range(1, len(acc) + 1)\n",
        "\n",
        "    plt.figure()\n",
        "    plt.plot(epochs, acc, label='Training Accuracy')\n",
        "    plt.plot(epochs, val_acc, label='Validation Accuracy')\n",
        "    plt.title('Results for {}'.format(i))\n",
        "    plt.legend()\n",
        "    plt.show()"
      ],
      "execution_count": null,
      "outputs": [
        {
          "output_type": "display_data",
          "data": {
            "image/png": "[encoded data removed]",
            "text/plain": [
              "<Figure size 432x288 with 1 Axes>"
            ]
          },
          "metadata": {
            "tags": [],
            "needs_background": "light"
          }
        },
        {
          "output_type": "display_data",
          "data": {
            "image/png": "[encoded data removed]",
            "text/plain": [
              "<Figure size 432x288 with 1 Axes>"
            ]
          },
          "metadata": {
            "tags": [],
            "needs_background": "light"
          }
        },
        {
          "output_type": "display_data",
          "data": {
            "image/png": "[encoded data removed]",
            "text/plain": [
              "<Figure size 432x288 with 1 Axes>"
            ]
          },
          "metadata": {
            "tags": [],
            "needs_background": "light"
          }
        }
      ]
    },
    {
      "cell_type": "code",
      "metadata": {
        "id": "U_Yg8tX9Eq_n"
      },
      "source": [
        ""
      ],
      "execution_count": null,
      "outputs": []
    },
    {
      "cell_type": "markdown",
      "metadata": {
        "id": "AT1HJNG5CoVu"
      },
      "source": [
        "# New Section"
      ]
    }
  ]
}